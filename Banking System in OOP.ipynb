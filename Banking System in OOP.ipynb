{
 "cells": [
  {
   "cell_type": "code",
   "execution_count": 1,
   "id": "9adcb8d2",
   "metadata": {},
   "outputs": [],
   "source": [
    "# Parent Class\n",
    "class User():\n",
    "    def __init__(self, name, gender, age):\n",
    "        self.name = name\n",
    "        self.gender = gender\n",
    "        self.age = age\n",
    "    \n",
    "    def show_details(self):\n",
    "        print('Personal Details:')\n",
    "        print('')\n",
    "        print('Name: ', self.name)\n",
    "        print('Gender: ', self.gender)\n",
    "        print('Age: ', self.age)"
   ]
  },
  {
   "cell_type": "code",
   "execution_count": 2,
   "id": "7a300d97",
   "metadata": {},
   "outputs": [
    {
     "name": "stdout",
     "output_type": "stream",
     "text": [
      "Personal Details:\n",
      "\n",
      "Name:  John\n",
      "Gender:  Male\n",
      "Age:  20\n"
     ]
    }
   ],
   "source": [
    "John = User('John', 'Male', 20)\n",
    "John.show_details()"
   ]
  },
  {
   "cell_type": "code",
   "execution_count": 3,
   "id": "e9dc1777",
   "metadata": {},
   "outputs": [],
   "source": [
    "# Child Class\n",
    "class Bank(User):\n",
    "    def __init__(self, name, gender, age):\n",
    "        super().__init__(name, gender, age)\n",
    "        self.balance = 0\n",
    "    \n",
    "    def deposit(self, amount):\n",
    "        self.amount = amount\n",
    "        self.balance = self.balance + self.amount\n",
    "        print('Account Balamce is $', self.balance)\n",
    "        \n",
    "    def withdrawal(self, amount):\n",
    "        self.amount = amount\n",
    "        if self.amount > self.balance:\n",
    "            print('Insufficient Funds. The available balance is $',self.balance)\n",
    "        else:\n",
    "            self.balance = self.balance - self.amount\n",
    "            print('Remaining Balance is $', self.balance)\n",
    "            \n",
    "    def view_balance(self):\n",
    "        self.show_details()\n",
    "        print('The available balance is $',self.balance)"
   ]
  },
  {
   "cell_type": "code",
   "execution_count": 4,
   "id": "af391ef0",
   "metadata": {},
   "outputs": [
    {
     "name": "stdout",
     "output_type": "stream",
     "text": [
      "John\n",
      "Male\n",
      "20\n"
     ]
    }
   ],
   "source": [
    "John = Bank('John', 'Male', 20)\n",
    "print(John.name)\n",
    "print(John.gender)\n",
    "print(John.age)"
   ]
  },
  {
   "cell_type": "code",
   "execution_count": 5,
   "id": "629bcfc9",
   "metadata": {},
   "outputs": [
    {
     "name": "stdout",
     "output_type": "stream",
     "text": [
      "Account Balamce is $ 5000\n"
     ]
    }
   ],
   "source": [
    "John.deposit(5000)"
   ]
  },
  {
   "cell_type": "code",
   "execution_count": 6,
   "id": "1e459e94",
   "metadata": {},
   "outputs": [
    {
     "name": "stdout",
     "output_type": "stream",
     "text": [
      "Account Balamce is $ 10000\n"
     ]
    }
   ],
   "source": [
    "John.deposit(5000)"
   ]
  },
  {
   "cell_type": "code",
   "execution_count": 7,
   "id": "d18f49f1",
   "metadata": {},
   "outputs": [
    {
     "name": "stdout",
     "output_type": "stream",
     "text": [
      "Account Balamce is $ 50000\n"
     ]
    }
   ],
   "source": [
    "John.deposit(40000)"
   ]
  },
  {
   "cell_type": "code",
   "execution_count": 8,
   "id": "8923af93",
   "metadata": {},
   "outputs": [
    {
     "name": "stdout",
     "output_type": "stream",
     "text": [
      "Remaining Balance is $ 49990\n"
     ]
    }
   ],
   "source": [
    "John.withdrawal(10)"
   ]
  },
  {
   "cell_type": "code",
   "execution_count": 9,
   "id": "372bdf5a",
   "metadata": {},
   "outputs": [
    {
     "name": "stdout",
     "output_type": "stream",
     "text": [
      "Remaining Balance is $ 49890\n"
     ]
    }
   ],
   "source": [
    "John.withdrawal(100)"
   ]
  },
  {
   "cell_type": "code",
   "execution_count": 10,
   "id": "17d48c92",
   "metadata": {},
   "outputs": [
    {
     "name": "stdout",
     "output_type": "stream",
     "text": [
      "Insufficient Funds. The available balance is $ 49890\n"
     ]
    }
   ],
   "source": [
    "John.withdrawal(50000)"
   ]
  },
  {
   "cell_type": "code",
   "execution_count": 11,
   "id": "11f47887",
   "metadata": {},
   "outputs": [
    {
     "name": "stdout",
     "output_type": "stream",
     "text": [
      "Remaining Balance is $ 0\n"
     ]
    }
   ],
   "source": [
    "John.withdrawal(49890)"
   ]
  },
  {
   "cell_type": "code",
   "execution_count": 12,
   "id": "6aac817a",
   "metadata": {},
   "outputs": [
    {
     "name": "stdout",
     "output_type": "stream",
     "text": [
      "Personal Details:\n",
      "\n",
      "Name:  John\n",
      "Gender:  Male\n",
      "Age:  20\n",
      "The available balance is $ 0\n"
     ]
    }
   ],
   "source": [
    "John.view_balance()"
   ]
  },
  {
   "cell_type": "code",
   "execution_count": null,
   "id": "b7e246d0",
   "metadata": {},
   "outputs": [],
   "source": []
  }
 ],
 "metadata": {
  "kernelspec": {
   "display_name": "Python 3 (ipykernel)",
   "language": "python",
   "name": "python3"
  },
  "language_info": {
   "codemirror_mode": {
    "name": "ipython",
    "version": 3
   },
   "file_extension": ".py",
   "mimetype": "text/x-python",
   "name": "python",
   "nbconvert_exporter": "python",
   "pygments_lexer": "ipython3",
   "version": "3.11.2"
  }
 },
 "nbformat": 4,
 "nbformat_minor": 5
}
